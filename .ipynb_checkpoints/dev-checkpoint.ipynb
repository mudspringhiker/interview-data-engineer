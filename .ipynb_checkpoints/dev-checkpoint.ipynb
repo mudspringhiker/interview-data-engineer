{
 "cells": [
  {
   "cell_type": "code",
   "execution_count": 1,
   "metadata": {
    "collapsed": true
   },
   "outputs": [],
   "source": [
    "import csv\n",
    "import json\n",
    "from schema import schema"
   ]
  },
  {
   "cell_type": "code",
   "execution_count": 2,
   "metadata": {},
   "outputs": [
    {
     "data": {
      "text/plain": [
       "{'properties': {'building': {'type': 'string'},\n",
       "  'datetime': {'format': 'date-time', 'type': 'string'},\n",
       "  'floor_level': {'type': 'integer'},\n",
       "  'person_id': {'type': 'string'}},\n",
       " 'required': ['person_id', 'datetime', 'floor_level', 'building'],\n",
       " 'title': 'Floor Access Event',\n",
       " 'type': 'object'}"
      ]
     },
     "execution_count": 2,
     "metadata": {},
     "output_type": "execute_result"
    }
   ],
   "source": [
    "schema"
   ]
  },
  {
   "cell_type": "code",
   "execution_count": 3,
   "metadata": {},
   "outputs": [
    {
     "data": {
      "text/plain": [
       "['person_id', 'datetime', 'floor_level', 'building']"
      ]
     },
     "execution_count": 3,
     "metadata": {},
     "output_type": "execute_result"
    }
   ],
   "source": [
    "schema['required']"
   ]
  },
  {
   "cell_type": "code",
   "execution_count": 4,
   "metadata": {},
   "outputs": [
    {
     "data": {
      "text/plain": [
       "{'building': {'type': 'string'},\n",
       " 'datetime': {'format': 'date-time', 'type': 'string'},\n",
       " 'floor_level': {'type': 'integer'},\n",
       " 'person_id': {'type': 'string'}}"
      ]
     },
     "execution_count": 4,
     "metadata": {},
     "output_type": "execute_result"
    }
   ],
   "source": [
    "schema['properties']"
   ]
  },
  {
   "cell_type": "code",
   "execution_count": 5,
   "metadata": {},
   "outputs": [
    {
     "name": "stdout",
     "output_type": "stream",
     "text": [
      "{'type': 'string'}\n",
      "{'type': 'string', 'format': 'date-time'}\n",
      "{'type': 'integer'}\n",
      "{'type': 'string'}\n"
     ]
    }
   ],
   "source": [
    "for item in schema['required']:\n",
    "    print(schema['properties'][item])"
   ]
  },
  {
   "cell_type": "code",
   "execution_count": 6,
   "metadata": {
    "collapsed": true
   },
   "outputs": [],
   "source": [
    "properties_map = {\n",
    "            'building': 'Building', \n",
    "            'datetime': 'Floor Access DateTime', \n",
    "            'floor_level': 'Floor Level',\n",
    "            'person_id': 'Person Id'}"
   ]
  },
  {
   "cell_type": "code",
   "execution_count": 7,
   "metadata": {
    "collapsed": true
   },
   "outputs": [],
   "source": [
    "def convert_to_json(csvfile, outputjson, schema=schema):\n",
    "    with open(csvfile) as f:\n",
    "        reader = csv.DictReader(f)\n",
    "        \n",
    "        with open(outputjson, 'w') as jsonfile:\n",
    "            for row in reader:\n",
    "                for item in schema['required']:\n",
    "                    if schema['properties'][item]['type'] == 'integer':\n",
    "                        schema['properties'][item] = int(row[properties_map[item]])\n",
    "                    else:\n",
    "                        if schema['properties'][item]['format'] == 'date-time':\n",
    "                            schema['properties'][item] = row[properties_map[item]].replace(' ', '-')\n",
    "                        else:\n",
    "                            schema['properties'][item] = row[properties_map[item]]\n",
    "                json.dump(schema, jsonfile)\n",
    "                jsonfile.write('\\n')"
   ]
  },
  {
   "cell_type": "code",
   "execution_count": 8,
   "metadata": {
    "collapsed": true
   },
   "outputs": [],
   "source": [
    "datacsv = 'data.csv'\n",
    "outputfile = 'output.json'"
   ]
  },
  {
   "cell_type": "code",
   "execution_count": 9,
   "metadata": {
    "collapsed": true
   },
   "outputs": [],
   "source": [
    "convert_to_json(datacsv, outputfile)"
   ]
  },
  {
   "cell_type": "code",
   "execution_count": null,
   "metadata": {
    "collapsed": true
   },
   "outputs": [],
   "source": []
  }
 ],
 "metadata": {
  "kernelspec": {
   "display_name": "Python 3",
   "language": "python",
   "name": "python3"
  },
  "language_info": {
   "codemirror_mode": {
    "name": "ipython",
    "version": 3
   },
   "file_extension": ".py",
   "mimetype": "text/x-python",
   "name": "python",
   "nbconvert_exporter": "python",
   "pygments_lexer": "ipython3",
   "version": "3.6.2"
  }
 },
 "nbformat": 4,
 "nbformat_minor": 2
}
